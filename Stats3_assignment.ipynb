{
 "cells": [
  {
   "cell_type": "markdown",
   "metadata": {},
   "source": [
    "Problem Statement 1:"
   ]
  },
  {
   "cell_type": "markdown",
   "metadata": {},
   "source": [
    "Blood glucose levels for obese patients have a mean of 100 with a standard deviation of 15. A researcher thinks that a diet high in raw cornstarch will have a positive effect on blood glucose levels. A sample of 36 patients who have tried the raw cornstarch diet have a mean glucose level of 108. Test the hypothesis that the raw cornstarch had an effect or not."
   ]
  },
  {
   "cell_type": "markdown",
   "metadata": {},
   "source": [
    "null_hypothesis : raw cornstarch has a effect, \n",
    "alternate_hypothesis : raw cornstarch didn't effect"
   ]
  },
  {
   "cell_type": "code",
   "execution_count": 5,
   "metadata": {},
   "outputs": [],
   "source": [
    "sample_size = 36\n",
    "sample_mean = 108\n",
    "std_deviation = 15\n",
    "std_error = std_deviation/(36**0.5)\n",
    "population_mean = 100"
   ]
  },
  {
   "cell_type": "code",
   "execution_count": 6,
   "metadata": {},
   "outputs": [
    {
     "name": "stdout",
     "output_type": "stream",
     "text": [
      "z-test value = 3.2\n"
     ]
    }
   ],
   "source": [
    "z_test = (sample_mean-population_mean)/std_error\n",
    "print(f\"z-test value = {z_test}\")"
   ]
  },
  {
   "cell_type": "code",
   "execution_count": 7,
   "metadata": {},
   "outputs": [],
   "source": [
    "#for a 5% significance level\n",
    "alpha = 0.05\n",
    "#from z table critical value for one tail test at alpha=0.05 \n",
    "z_critical_positive = 1.96"
   ]
  },
  {
   "cell_type": "code",
   "execution_count": 8,
   "metadata": {},
   "outputs": [
    {
     "name": "stdout",
     "output_type": "stream",
     "text": [
      "z_test value lies in critical region so reject the null hypothesis. Hence raw cornstarch didn't effect.\n"
     ]
    }
   ],
   "source": [
    "if z_test > z_critical_positive:\n",
    "    print(\"z_test value lies in critical region so reject the null hypothesis. Hence raw cornstarch didn't effect.\")\n",
    "else:\n",
    "    print(\"raw cornstarch has a positive effect\")"
   ]
  },
  {
   "cell_type": "markdown",
   "metadata": {},
   "source": [
    "Problem Statement 3:"
   ]
  },
  {
   "cell_type": "markdown",
   "metadata": {},
   "source": [
    "You take the SAT and score 1100. The mean score for the SAT is 1026 and the standard\n",
    "deviation is 209. How well did you score on the test compared to the average test taker?"
   ]
  },
  {
   "cell_type": "code",
   "execution_count": 12,
   "metadata": {},
   "outputs": [
    {
     "name": "stdout",
     "output_type": "stream",
     "text": [
      "your score is 0.35 standard deviation away from the mean\n"
     ]
    }
   ],
   "source": [
    "your_score, mean_score, std_deviation = 1100, 1026, 209\n",
    "z_test = (your_score-mean_score)/std_deviation\n",
    "if z_test>0:\n",
    "    print(\"your score is {:.2f} standard deviation away from the mean\".format(z_test))\n",
    "else:\n",
    "    print(\"your score is {:.2f} standard deviation below from the mean\".format(z_test))"
   ]
  }
 ],
 "metadata": {
  "kernelspec": {
   "display_name": "Python 3",
   "language": "python",
   "name": "python3"
  },
  "language_info": {
   "codemirror_mode": {
    "name": "ipython",
    "version": 3
   },
   "file_extension": ".py",
   "mimetype": "text/x-python",
   "name": "python",
   "nbconvert_exporter": "python",
   "pygments_lexer": "ipython3",
   "version": "3.7.4"
  }
 },
 "nbformat": 4,
 "nbformat_minor": 2
}
